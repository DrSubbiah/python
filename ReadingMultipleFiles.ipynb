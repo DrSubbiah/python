{
  "nbformat": 4,
  "nbformat_minor": 0,
  "metadata": {
    "colab": {
      "provenance": [],
      "authorship_tag": "ABX9TyOGiwboBvq7jSvyaW/Hx6EY",
      "include_colab_link": true
    },
    "kernelspec": {
      "name": "python3",
      "display_name": "Python 3"
    },
    "language_info": {
      "name": "python"
    }
  },
  "cells": [
    {
      "cell_type": "markdown",
      "metadata": {
        "id": "view-in-github",
        "colab_type": "text"
      },
      "source": [
        "<a href=\"https://colab.research.google.com/github/DrSubbiah/python/blob/main/ReadingMultipleFiles.ipynb\" target=\"_parent\"><img src=\"https://colab.research.google.com/assets/colab-badge.svg\" alt=\"Open In Colab\"/></a>"
      ]
    },
    {
      "cell_type": "markdown",
      "source": [
        "# TASKS \n",
        "\n",
        "Reading many CSV in the drive\n",
        "\n",
        "Add a column with file names\n",
        "\n",
        "Create a single DF by concatenating all files \n",
        "\n",
        "(This requires all CSV should have same columns)\n",
        "\n",
        "# Steps\n",
        "\n",
        "1. In the drive, create a folder that has all files (CSV) to read\n",
        "\n",
        "1. Use glob and os libraries\n",
        "\n",
        "1. USe pandas for creating a single DF "
      ],
      "metadata": {
        "id": "3YSQVsw8Y2qP"
      }
    },
    {
      "cell_type": "code",
      "execution_count": null,
      "metadata": {
        "id": "gVxKET1HN3YS"
      },
      "outputs": [],
      "source": [
        "import glob\n",
        "import os\n",
        "import pandas as pd"
      ]
    },
    {
      "cell_type": "code",
      "source": [
        "from google.colab import drive\n",
        "drive.mount('/content/drive')"
      ],
      "metadata": {
        "colab": {
          "base_uri": "https://localhost:8080/"
        },
        "id": "CfXkG42RE0LG",
        "outputId": "364d5045-9d22-465a-9792-6e757e48a68c"
      },
      "execution_count": null,
      "outputs": [
        {
          "output_type": "stream",
          "name": "stdout",
          "text": [
            "Mounted at /content/drive\n"
          ]
        }
      ]
    },
    {
      "cell_type": "code",
      "source": [
        "# Set path (drive)\n",
        "\n",
        "path = r'/content/drive/MyDrive/DATA'\n",
        "\n",
        "#Fix the file pattern\n",
        "filenames = glob.glob(path + \"/*.csv\")\n",
        "\n",
        "#Read all files\n",
        "dfs = [pd.read_csv(filename).assign(Source=os.path.basename(filename)) for filename in filenames]\n",
        "\n",
        "#Concatenate all data into one DataFrame\n",
        "\n",
        "final_df = pd.concat(dfs, ignore_index=False)"
      ],
      "metadata": {
        "id": "U53fqvsUUP88"
      },
      "execution_count": null,
      "outputs": []
    },
    {
      "cell_type": "code",
      "source": [
        "dfs"
      ],
      "metadata": {
        "id": "I8y6gQZDYAaL",
        "colab": {
          "base_uri": "https://localhost:8080/"
        },
        "outputId": "c06c07a8-94f9-4df6-afb1-d79b3732d7b2"
      },
      "execution_count": null,
      "outputs": [
        {
          "output_type": "execute_result",
          "data": {
            "text/plain": [
              "[     instant      dteday  season  yr  mnth  holiday  weekday  workingday  \\\n",
              " 0          1  01-01-2011       1   0     1        0        6           0   \n",
              " 1          2  02-01-2011       1   0     1        0        0           0   \n",
              " 2          3  03-01-2011       1   0     1        0        1           1   \n",
              " 3          4  04-01-2011       1   0     1        0        2           1   \n",
              " 4          5  05-01-2011       1   0     1        0        3           1   \n",
              " ..       ...         ...     ...  ..   ...      ...      ...         ...   \n",
              " 726      727  27-12-2012       1   1    12        0        4           1   \n",
              " 727      728  28-12-2012       1   1    12        0        5           1   \n",
              " 728      729  29-12-2012       1   1    12        0        6           0   \n",
              " 729      730  30-12-2012       1   1    12        0        0           0   \n",
              " 730      731  31-12-2012       1   1    12        0        1           1   \n",
              " \n",
              "      weathersit      temp     atemp       hum  windspeed  casual  registered  \\\n",
              " 0             2  0.344167  0.363625  0.805833   0.160446     331         654   \n",
              " 1             2  0.363478  0.353739  0.696087   0.248539     131         670   \n",
              " 2             1  0.196364  0.189405  0.437273   0.248309     120        1229   \n",
              " 3             1  0.200000  0.212122  0.590435   0.160296     108        1454   \n",
              " 4             1  0.226957  0.229270  0.436957   0.186900      82        1518   \n",
              " ..          ...       ...       ...       ...        ...     ...         ...   \n",
              " 726           2  0.254167  0.226642  0.652917   0.350133     247        1867   \n",
              " 727           2  0.253333  0.255046  0.590000   0.155471     644        2451   \n",
              " 728           2  0.253333  0.242400  0.752917   0.124383     159        1182   \n",
              " 729           1  0.255833  0.231700  0.483333   0.350754     364        1432   \n",
              " 730           2  0.215833  0.223487  0.577500   0.154846     439        2290   \n",
              " \n",
              "       cnt                      Source  \n",
              " 0     985  BikeSharing_day - Copy.csv  \n",
              " 1     801  BikeSharing_day - Copy.csv  \n",
              " 2    1349  BikeSharing_day - Copy.csv  \n",
              " 3    1562  BikeSharing_day - Copy.csv  \n",
              " 4    1600  BikeSharing_day - Copy.csv  \n",
              " ..    ...                         ...  \n",
              " 726  2114  BikeSharing_day - Copy.csv  \n",
              " 727  3095  BikeSharing_day - Copy.csv  \n",
              " 728  1341  BikeSharing_day - Copy.csv  \n",
              " 729  1796  BikeSharing_day - Copy.csv  \n",
              " 730  2729  BikeSharing_day - Copy.csv  \n",
              " \n",
              " [731 rows x 17 columns],\n",
              "      instant      dteday  season  yr  mnth  holiday  weekday  workingday  \\\n",
              " 0          1  01-01-2011       1   0     1        0        6           0   \n",
              " 1          2  02-01-2011       1   0     1        0        0           0   \n",
              " 2          3  03-01-2011       1   0     1        0        1           1   \n",
              " 3          4  04-01-2011       1   0     1        0        2           1   \n",
              " 4          5  05-01-2011       1   0     1        0        3           1   \n",
              " ..       ...         ...     ...  ..   ...      ...      ...         ...   \n",
              " 726      727  27-12-2012       1   1    12        0        4           1   \n",
              " 727      728  28-12-2012       1   1    12        0        5           1   \n",
              " 728      729  29-12-2012       1   1    12        0        6           0   \n",
              " 729      730  30-12-2012       1   1    12        0        0           0   \n",
              " 730      731  31-12-2012       1   1    12        0        1           1   \n",
              " \n",
              "      weathersit      temp     atemp       hum  windspeed  casual  registered  \\\n",
              " 0             2  0.344167  0.363625  0.805833   0.160446     331         654   \n",
              " 1             2  0.363478  0.353739  0.696087   0.248539     131         670   \n",
              " 2             1  0.196364  0.189405  0.437273   0.248309     120        1229   \n",
              " 3             1  0.200000  0.212122  0.590435   0.160296     108        1454   \n",
              " 4             1  0.226957  0.229270  0.436957   0.186900      82        1518   \n",
              " ..          ...       ...       ...       ...        ...     ...         ...   \n",
              " 726           2  0.254167  0.226642  0.652917   0.350133     247        1867   \n",
              " 727           2  0.253333  0.255046  0.590000   0.155471     644        2451   \n",
              " 728           2  0.253333  0.242400  0.752917   0.124383     159        1182   \n",
              " 729           1  0.255833  0.231700  0.483333   0.350754     364        1432   \n",
              " 730           2  0.215833  0.223487  0.577500   0.154846     439        2290   \n",
              " \n",
              "       cnt               Source  \n",
              " 0     985  BikeSharing_day.csv  \n",
              " 1     801  BikeSharing_day.csv  \n",
              " 2    1349  BikeSharing_day.csv  \n",
              " 3    1562  BikeSharing_day.csv  \n",
              " 4    1600  BikeSharing_day.csv  \n",
              " ..    ...                  ...  \n",
              " 726  2114  BikeSharing_day.csv  \n",
              " 727  3095  BikeSharing_day.csv  \n",
              " 728  1341  BikeSharing_day.csv  \n",
              " 729  1796  BikeSharing_day.csv  \n",
              " 730  2729  BikeSharing_day.csv  \n",
              " \n",
              " [731 rows x 17 columns]]"
            ]
          },
          "metadata": {},
          "execution_count": 4
        }
      ]
    },
    {
      "cell_type": "code",
      "source": [
        "final_df.head"
      ],
      "metadata": {
        "id": "T1SHEFkrTbMj",
        "colab": {
          "base_uri": "https://localhost:8080/"
        },
        "outputId": "aaced360-2f19-45e1-af63-4dc2cbb5d23f"
      },
      "execution_count": null,
      "outputs": [
        {
          "output_type": "execute_result",
          "data": {
            "text/plain": [
              "<bound method NDFrame.head of      instant      dteday  season  yr  mnth  holiday  weekday  workingday  \\\n",
              "0          1  01-01-2011       1   0     1        0        6           0   \n",
              "1          2  02-01-2011       1   0     1        0        0           0   \n",
              "2          3  03-01-2011       1   0     1        0        1           1   \n",
              "3          4  04-01-2011       1   0     1        0        2           1   \n",
              "4          5  05-01-2011       1   0     1        0        3           1   \n",
              "..       ...         ...     ...  ..   ...      ...      ...         ...   \n",
              "726      727  27-12-2012       1   1    12        0        4           1   \n",
              "727      728  28-12-2012       1   1    12        0        5           1   \n",
              "728      729  29-12-2012       1   1    12        0        6           0   \n",
              "729      730  30-12-2012       1   1    12        0        0           0   \n",
              "730      731  31-12-2012       1   1    12        0        1           1   \n",
              "\n",
              "     weathersit      temp     atemp       hum  windspeed  casual  registered  \\\n",
              "0             2  0.344167  0.363625  0.805833   0.160446     331         654   \n",
              "1             2  0.363478  0.353739  0.696087   0.248539     131         670   \n",
              "2             1  0.196364  0.189405  0.437273   0.248309     120        1229   \n",
              "3             1  0.200000  0.212122  0.590435   0.160296     108        1454   \n",
              "4             1  0.226957  0.229270  0.436957   0.186900      82        1518   \n",
              "..          ...       ...       ...       ...        ...     ...         ...   \n",
              "726           2  0.254167  0.226642  0.652917   0.350133     247        1867   \n",
              "727           2  0.253333  0.255046  0.590000   0.155471     644        2451   \n",
              "728           2  0.253333  0.242400  0.752917   0.124383     159        1182   \n",
              "729           1  0.255833  0.231700  0.483333   0.350754     364        1432   \n",
              "730           2  0.215833  0.223487  0.577500   0.154846     439        2290   \n",
              "\n",
              "      cnt                      Source  \n",
              "0     985  BikeSharing_day - Copy.csv  \n",
              "1     801  BikeSharing_day - Copy.csv  \n",
              "2    1349  BikeSharing_day - Copy.csv  \n",
              "3    1562  BikeSharing_day - Copy.csv  \n",
              "4    1600  BikeSharing_day - Copy.csv  \n",
              "..    ...                         ...  \n",
              "726  2114         BikeSharing_day.csv  \n",
              "727  3095         BikeSharing_day.csv  \n",
              "728  1341         BikeSharing_day.csv  \n",
              "729  1796         BikeSharing_day.csv  \n",
              "730  2729         BikeSharing_day.csv  \n",
              "\n",
              "[1462 rows x 17 columns]>"
            ]
          },
          "metadata": {},
          "execution_count": 5
        }
      ]
    },
    {
      "cell_type": "code",
      "source": [
        "final_df.shape"
      ],
      "metadata": {
        "id": "vfif8ixjbJOw",
        "colab": {
          "base_uri": "https://localhost:8080/"
        },
        "outputId": "0c5ed923-bfb6-447f-f2ea-2eb83d2837c7"
      },
      "execution_count": null,
      "outputs": [
        {
          "output_type": "execute_result",
          "data": {
            "text/plain": [
              "(1462, 17)"
            ]
          },
          "metadata": {},
          "execution_count": 7
        }
      ]
    },
    {
      "cell_type": "code",
      "source": [
        "final_df.columns"
      ],
      "metadata": {
        "id": "fgXDF-bXbOvL",
        "colab": {
          "base_uri": "https://localhost:8080/"
        },
        "outputId": "d98124e1-35bc-49db-e9f1-b8d8fcdc4f44"
      },
      "execution_count": null,
      "outputs": [
        {
          "output_type": "execute_result",
          "data": {
            "text/plain": [
              "Index(['instant', 'dteday', 'season', 'yr', 'mnth', 'holiday', 'weekday',\n",
              "       'workingday', 'weathersit', 'temp', 'atemp', 'hum', 'windspeed',\n",
              "       'casual', 'registered', 'cnt', 'Source'],\n",
              "      dtype='object')"
            ]
          },
          "metadata": {},
          "execution_count": 6
        }
      ]
    }
  ]
}